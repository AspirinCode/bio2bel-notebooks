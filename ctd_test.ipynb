{
 "cells": [
  {
   "cell_type": "code",
   "execution_count": 1,
   "metadata": {
    "collapsed": true
   },
   "outputs": [],
   "source": [
    "import os\n",
    "import pyctd\n",
    "from chemspipy import ChemSpider"
   ]
  },
  {
   "cell_type": "code",
   "execution_count": 2,
   "metadata": {
    "collapsed": true
   },
   "outputs": [],
   "source": [
    "query = pyctd.query()"
   ]
  },
  {
   "cell_type": "code",
   "execution_count": 3,
   "metadata": {},
   "outputs": [
    {
     "name": "stdout",
     "output_type": "stream",
     "text": [
      "CPU times: user 5.35 s, sys: 540 ms, total: 5.89 s\n",
      "Wall time: 5.9 s\n"
     ]
    }
   ],
   "source": [
    "%%time\n",
    "results = query.get_chem_gene_interaction_actions(as_df=True)"
   ]
  },
  {
   "cell_type": "code",
   "execution_count": 4,
   "metadata": {},
   "outputs": [
    {
     "data": {
      "text/plain": [
       "1460080"
      ]
     },
     "execution_count": 4,
     "metadata": {},
     "output_type": "execute_result"
    }
   ],
   "source": [
    "len(results)"
   ]
  },
  {
   "cell_type": "code",
   "execution_count": 5,
   "metadata": {
    "scrolled": true
   },
   "outputs": [
    {
     "data": {
      "text/plain": [
       "pandas.core.frame.DataFrame"
      ]
     },
     "execution_count": 5,
     "metadata": {},
     "output_type": "execute_result"
    }
   ],
   "source": [
    "type(results)"
   ]
  },
  {
   "cell_type": "code",
   "execution_count": 6,
   "metadata": {},
   "outputs": [
    {
     "data": {
      "text/plain": [
       "Index(['id', 'organism_id', 'interaction', 'chemical__id', 'gene__id'], dtype='object')"
      ]
     },
     "execution_count": 6,
     "metadata": {},
     "output_type": "execute_result"
    }
   ],
   "source": [
    "results.keys()"
   ]
  },
  {
   "cell_type": "code",
   "execution_count": 7,
   "metadata": {},
   "outputs": [
    {
     "data": {
      "text/html": [
       "<div>\n",
       "<style>\n",
       "    .dataframe thead tr:only-child th {\n",
       "        text-align: right;\n",
       "    }\n",
       "\n",
       "    .dataframe thead th {\n",
       "        text-align: left;\n",
       "    }\n",
       "\n",
       "    .dataframe tbody tr th {\n",
       "        vertical-align: top;\n",
       "    }\n",
       "</style>\n",
       "<table border=\"1\" class=\"dataframe\">\n",
       "  <thead>\n",
       "    <tr style=\"text-align: right;\">\n",
       "      <th></th>\n",
       "      <th>id</th>\n",
       "      <th>organism_id</th>\n",
       "      <th>interaction</th>\n",
       "      <th>chemical__id</th>\n",
       "      <th>gene__id</th>\n",
       "    </tr>\n",
       "  </thead>\n",
       "  <tbody>\n",
       "    <tr>\n",
       "      <th>0</th>\n",
       "      <td>1</td>\n",
       "      <td>NaN</td>\n",
       "      <td>10074-G5 affects the folding of and results in...</td>\n",
       "      <td>14</td>\n",
       "      <td>286642.0</td>\n",
       "    </tr>\n",
       "    <tr>\n",
       "      <th>1</th>\n",
       "      <td>2</td>\n",
       "      <td>NaN</td>\n",
       "      <td>10074-G5 inhibits the reaction [MYC protein bi...</td>\n",
       "      <td>14</td>\n",
       "      <td>286642.0</td>\n",
       "    </tr>\n",
       "    <tr>\n",
       "      <th>2</th>\n",
       "      <td>3</td>\n",
       "      <td>9606.0</td>\n",
       "      <td>10074-G5 analog results in decreased expressio...</td>\n",
       "      <td>14</td>\n",
       "      <td>311198.0</td>\n",
       "    </tr>\n",
       "    <tr>\n",
       "      <th>3</th>\n",
       "      <td>4</td>\n",
       "      <td>9606.0</td>\n",
       "      <td>10074-G5 results in decreased activity of MYC ...</td>\n",
       "      <td>14</td>\n",
       "      <td>311198.0</td>\n",
       "    </tr>\n",
       "    <tr>\n",
       "      <th>4</th>\n",
       "      <td>5</td>\n",
       "      <td>9606.0</td>\n",
       "      <td>10074-G5 results in decreased expression of MY...</td>\n",
       "      <td>14</td>\n",
       "      <td>311198.0</td>\n",
       "    </tr>\n",
       "  </tbody>\n",
       "</table>\n",
       "</div>"
      ],
      "text/latex": [
       "\\begin{center}{\\begin{tabular}{lrrlrr}\n",
       "\\toprule\n",
       "{} &  id &  organism\\_id &                                        interaction &  chemical\\_\\_id &  gene\\_\\_id \\\\\n",
       "\\midrule\n",
       "0 &   1 &          NaN &  10074-G5 affects the folding of and results in... &            14 &  286642.0 \\\\\n",
       "1 &   2 &          NaN &  10074-G5 inhibits the reaction [MYC protein bi... &            14 &  286642.0 \\\\\n",
       "2 &   3 &       9606.0 &  10074-G5 analog results in decreased expressio... &            14 &  311198.0 \\\\\n",
       "3 &   4 &       9606.0 &  10074-G5 results in decreased activity of MYC ... &            14 &  311198.0 \\\\\n",
       "4 &   5 &       9606.0 &  10074-G5 results in decreased expression of MY... &            14 &  311198.0 \\\\\n",
       "\\bottomrule\n",
       "\\end{tabular}\n",
       "}\\end{center}"
      ],
      "text/plain": [
       "   id  organism_id                                        interaction  \\\n",
       "0   1          NaN  10074-G5 affects the folding of and results in...   \n",
       "1   2          NaN  10074-G5 inhibits the reaction [MYC protein bi...   \n",
       "2   3       9606.0  10074-G5 analog results in decreased expressio...   \n",
       "3   4       9606.0  10074-G5 results in decreased activity of MYC ...   \n",
       "4   5       9606.0  10074-G5 results in decreased expression of MY...   \n",
       "\n",
       "   chemical__id  gene__id  \n",
       "0            14  286642.0  \n",
       "1            14  286642.0  \n",
       "2            14  311198.0  \n",
       "3            14  311198.0  \n",
       "4            14  311198.0  "
      ]
     },
     "execution_count": 7,
     "metadata": {},
     "output_type": "execute_result"
    }
   ],
   "source": [
    "results.head()"
   ]
  },
  {
   "cell_type": "code",
   "execution_count": 8,
   "metadata": {},
   "outputs": [
    {
     "name": "stdout",
     "output_type": "stream",
     "text": [
      "CPU times: user 394 ms, sys: 271 ms, total: 665 ms\n",
      "Wall time: 664 ms\n"
     ]
    }
   ],
   "source": [
    "%%time\n",
    "results = query.get_chem_gene_interaction_actions(gene_symbol='APP', organism_id=9606)"
   ]
  },
  {
   "cell_type": "code",
   "execution_count": 9,
   "metadata": {},
   "outputs": [
    {
     "data": {
      "text/plain": [
       "1-(3',4'-dichloro-2-fluoro(1,1'-biphenyl)-4-yl)cyclopropanecarboxylic acid -> amyloid beta precursor protein; interaction: 1-(3',4'-dichloro-2-fluoro(1,1'-biphenyl)-4-yl)cyclopropanecarboxylic acid results in decreased secretion of APP protein"
      ]
     },
     "execution_count": 9,
     "metadata": {},
     "output_type": "execute_result"
    }
   ],
   "source": [
    "result_example = results[0]\n",
    "result_example"
   ]
  },
  {
   "cell_type": "code",
   "execution_count": 10,
   "metadata": {},
   "outputs": [
    {
     "data": {
      "text/plain": [
       "1-(3',4'-dichloro-2-fluoro(1,1'-biphenyl)-4-yl)cyclopropanecarboxylic acid"
      ]
     },
     "execution_count": 10,
     "metadata": {},
     "output_type": "execute_result"
    }
   ],
   "source": [
    "chemical_example = result_example.chemical\n",
    "chemical_example"
   ]
  },
  {
   "cell_type": "code",
   "execution_count": 11,
   "metadata": {},
   "outputs": [
    {
     "name": "stdout",
     "output_type": "stream",
     "text": [
      "cas_rn\n",
      "None\n",
      "\n",
      "chemical_id\n",
      "MESH:C522246\n",
      "\n",
      "chemical_name\n",
      "1-(3',4'-dichloro-2-fluoro(1,1'-biphenyl)-4-yl)cyclopropanecarboxylic acid\n",
      "\n",
      "definition\n",
      "None\n",
      "\n",
      "drugbank_ids\n",
      "[]\n",
      "\n",
      "id\n",
      "3757\n",
      "\n",
      "inchi\n",
      "None\n",
      "\n",
      "isomeric_smiles\n",
      "None\n",
      "\n",
      "metadata\n",
      "MetaData(bind=None)\n",
      "\n",
      "parent_ids\n",
      "[MESH:D003521, MESH:D005480]\n",
      "\n",
      "parent_tree_numbers\n",
      "[D02.241.081.751.161, D02.455.426.392.368.533, D02.455.426.559.389.185.350]\n",
      "\n",
      "synonyms\n",
      "[CHF5074, CHF 5074, CHF-5074]\n",
      "\n",
      "table_suffix\n",
      "chemical\n",
      "\n",
      "tree_numbers\n",
      "[D02.241.081.751.161/C522246, D02.455.426.392.368.533/C522246, D02.455.426.559.389.185.350/C522246]\n",
      "\n"
     ]
    }
   ],
   "source": [
    "for a in dir(chemical_example):\n",
    "    if a.startswith('_'):\n",
    "        continue\n",
    "    \n",
    "    print(a)\n",
    "    print(getattr(chemical_example, a))\n",
    "    print()"
   ]
  },
  {
   "cell_type": "markdown",
   "metadata": {
    "collapsed": true
   },
   "source": [
    "# Search with ChemSpider"
   ]
  },
  {
   "cell_type": "code",
   "execution_count": 12,
   "metadata": {},
   "outputs": [],
   "source": [
    "cs = ChemSpider(os.environ['CHEMSPIDER_TOKEN'])"
   ]
  },
  {
   "cell_type": "code",
   "execution_count": 13,
   "metadata": {},
   "outputs": [
    {
     "data": {
      "text/plain": [
       "'MESH:C522246'"
      ]
     },
     "execution_count": 13,
     "metadata": {},
     "output_type": "execute_result"
    }
   ],
   "source": [
    "chemical_example.chemical_id"
   ]
  },
  {
   "cell_type": "code",
   "execution_count": 14,
   "metadata": {},
   "outputs": [
    {
     "data": {
      "text/plain": [
       "'C522246'"
      ]
     },
     "execution_count": 14,
     "metadata": {},
     "output_type": "execute_result"
    }
   ],
   "source": [
    "chemical_example.chemical_id[5:]"
   ]
  },
  {
   "cell_type": "code",
   "execution_count": 16,
   "metadata": {},
   "outputs": [
    {
     "data": {
      "text/plain": [
       "[Compound(8171990)]"
      ]
     },
     "execution_count": 16,
     "metadata": {},
     "output_type": "execute_result"
    }
   ],
   "source": [
    "result = [result for result in cs.simple_search(chemical_example.chemical_name)]\n",
    "result"
   ]
  },
  {
   "cell_type": "code",
   "execution_count": 17,
   "metadata": {},
   "outputs": [
    {
     "data": {
      "image/png": "[encoded data removed]",
      "text/plain": [
       "Compound(8171990)"
      ]
     },
     "execution_count": 17,
     "metadata": {},
     "output_type": "execute_result"
    }
   ],
   "source": [
    "result[0]"
   ]
  },
  {
   "cell_type": "code",
   "execution_count": 22,
   "metadata": {
    "scrolled": false
   },
   "outputs": [
    {
     "name": "stdout",
     "output_type": "stream",
     "text": [
      "alogp\n",
      "0.0\n",
      "\n",
      "average_mass\n",
      "325.1617\n",
      "\n",
      "common_name\n",
      "1-(3',4'-Dichloro-2-fluoro-4-biphenylyl)cyclopropanecarboxylic acid\n",
      "\n",
      "csid\n",
      "8171990\n",
      "\n",
      "image_url\n",
      "http://www.chemspider.com/ImagesHandler.ashx?id=8171990\n",
      "\n",
      "inchi\n",
      "InChI=1/C16H11Cl2FO2/c17-12-4-1-9(7-13(12)18)11-3-2-10(8-14(11)19)16(5-6-16)15(20)21/h1-4,7-8H,5-6H2,(H,20,21)\n",
      "\n",
      "inchikey\n",
      "LIYLTQQDABRNRX-UHFFFAOYAS\n",
      "\n",
      "molecular_formula\n",
      "C_{16}H_{11}Cl_{2}FO_{2}\n",
      "\n",
      "molecular_weight\n",
      "325.1617\n",
      "\n",
      "monoisotopic_mass\n",
      "324.012024\n",
      "\n",
      "nominal_mass\n",
      "324.0\n",
      "\n",
      "smiles\n",
      "c1cc(c(cc1c2ccc(cc2F)C3(CC3)C(=O)O)Cl)Cl\n",
      "\n",
      "spectra\n",
      "[]\n",
      "\n",
      "stdinchi\n",
      "InChI=1S/C16H11Cl2FO2/c17-12-4-1-9(7-13(12)18)11-3-2-10(8-14(11)19)16(5-6-16)15(20)21/h1-4,7-8H,5-6H2,(H,20,21)\n",
      "\n",
      "stdinchikey\n",
      "LIYLTQQDABRNRX-UHFFFAOYSA-N\n",
      "\n",
      "xlogp\n",
      "5.4\n",
      "\n"
     ]
    }
   ],
   "source": [
    "for a in dir(result[0]):\n",
    "    if a.startswith('_'):\n",
    "        continue\n",
    "        \n",
    "    if a in {'image', 'mol_2d', 'mol_3d', 'mol_raw'}:\n",
    "        continue\n",
    "        \n",
    "    print(a)\n",
    "    print(getattr(result[0], a))\n",
    "    print()\n",
    "    \n",
    "#print(result[0].common_name)"
   ]
  }
 ],
 "metadata": {
  "kernelspec": {
   "display_name": "Python 3",
   "language": "python",
   "name": "python3"
  },
  "language_info": {
   "codemirror_mode": {
    "name": "ipython",
    "version": 3
   },
   "file_extension": ".py",
   "mimetype": "text/x-python",
   "name": "python",
   "nbconvert_exporter": "python",
   "pygments_lexer": "ipython3",
   "version": "3.6.2"
  }
 },
 "nbformat": 4,
 "nbformat_minor": 1
}
