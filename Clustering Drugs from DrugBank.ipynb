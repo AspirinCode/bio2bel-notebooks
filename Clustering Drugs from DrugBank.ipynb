{
 "cells": [
  {
   "cell_type": "markdown",
   "metadata": {},
   "source": [
    "# Clustering Drugs from DrugBank\n",
    "\n",
    "What chemical space is covered by DrugBank?"
   ]
  },
  {
   "cell_type": "code",
   "execution_count": 1,
   "metadata": {},
   "outputs": [],
   "source": [
    "from collections import defaultdict\n",
    "import itertools as itt\n",
    "\n",
    "import bio2bel_drugbank\n",
    "import bio2bel_hgnc\n",
    "import matplotlib.pyplot as plt\n",
    "import pandas as pd"
   ]
  },
  {
   "cell_type": "code",
   "execution_count": 2,
   "metadata": {},
   "outputs": [],
   "source": [
    "%matplotlib inline"
   ]
  },
  {
   "cell_type": "code",
   "execution_count": 3,
   "metadata": {},
   "outputs": [],
   "source": [
    "hgnc_manager = bio2bel_hgnc.Manager()"
   ]
  },
  {
   "cell_type": "code",
   "execution_count": 4,
   "metadata": {},
   "outputs": [],
   "source": [
    "drugbank_manager = bio2bel_drugbank.Manager()"
   ]
  },
  {
   "cell_type": "code",
   "execution_count": 5,
   "metadata": {},
   "outputs": [
    {
     "data": {
      "image/png": "[encoded data removed]",
      "text/plain": [
       "<matplotlib.figure.Figure at 0x108ee0b38>"
      ]
     },
     "metadata": {},
     "output_type": "display_data"
    }
   ],
   "source": [
    "drug_to_hgnc_symbols = drugbank_manager.get_drug_to_hgnc_symbols()\n",
    "\n",
    "drug_promiscuity_histogram = [len(hgnc_symbols) for hgnc_symbols in drug_to_hgnc_symbols.values()]\n",
    "\n",
    "plt.title('How Many Targets Do Drugs Have?')\n",
    "plt.xlabel('Number of Targets')\n",
    "plt.ylabel('Frequency')\n",
    "plt.hist(drug_promiscuity_histogram, log=True)\n",
    "plt.show()"
   ]
  },
  {
   "cell_type": "code",
   "execution_count": 6,
   "metadata": {},
   "outputs": [
    {
     "data": {
      "image/png": "[encoded data removed]",
      "text/plain": [
       "<matplotlib.figure.Figure at 0x109c178d0>"
      ]
     },
     "metadata": {},
     "output_type": "display_data"
    }
   ],
   "source": [
    "hgnc_symbol_to_drugs = defaultdict(set)\n",
    "for drug, genes in drug_to_hgnc_symbols.items():\n",
    "    for gene in genes:\n",
    "        hgnc_symbol_to_drugs[gene].add(drug)\n",
    "\n",
    "target_promiscuity_histogram = [len(drugs) for drugs in hgnc_symbol_to_drugs.values()]      \n",
    "\n",
    "plt.title('How Many Drugs Do Targets Have?')\n",
    "plt.xlabel('Number of Drugs')\n",
    "plt.ylabel('Frequency')\n",
    "plt.hist(target_promiscuity_histogram, log=True)\n",
    "plt.show()"
   ]
  },
  {
   "cell_type": "code",
   "execution_count": 7,
   "metadata": {},
   "outputs": [
    {
     "name": "stdout",
     "output_type": "stream",
     "text": [
      "11033\n",
      "CPU times: user 401 ms, sys: 25.9 ms, total: 427 ms\n",
      "Wall time: 459 ms\n"
     ]
    }
   ],
   "source": [
    "%%time\n",
    "drugs = [drug.name for drug in drugbank_manager.list_drugs()]\n",
    "print(len(drugs))"
   ]
  },
  {
   "cell_type": "code",
   "execution_count": 8,
   "metadata": {},
   "outputs": [
    {
     "name": "stdout",
     "output_type": "stream",
     "text": [
      "2749\n",
      "CPU times: user 282 ms, sys: 9.01 ms, total: 291 ms\n",
      "Wall time: 391 ms\n"
     ]
    }
   ],
   "source": [
    "%%time\n",
    "\n",
    "hgnc_id_symbol_mapping = hgnc_manager.build_hgnc_id_symbol_mapping()\n",
    "\n",
    "targets = [\n",
    "    hgnc_id_symbol_mapping[protein.hgnc_id[len('HGNC:'):]] \n",
    "    for protein in drugbank_manager.list_proteins() \n",
    "    if protein.hgnc_id\n",
    "]\n",
    "print(len(targets))"
   ]
  },
  {
   "cell_type": "code",
   "execution_count": 9,
   "metadata": {},
   "outputs": [
    {
     "name": "stdout",
     "output_type": "stream",
     "text": [
      "CPU times: user 2.26 ms, sys: 48 µs, total: 2.31 ms\n",
      "Wall time: 2.31 ms\n"
     ]
    }
   ],
   "source": [
    "%%time\n",
    "\n",
    "index = [drug for drug in drugs[:5] if drug in drug_to_hgnc_symbols]\n",
    "columns = targets[100:]\n",
    "\n",
    "r = [\n",
    "    [\n",
    "        target in drug_to_hgnc_symbols[drug]\n",
    "        for target in columns\n",
    "    ]\n",
    "    for drug in index\n",
    "]"
   ]
  },
  {
   "cell_type": "code",
   "execution_count": 10,
   "metadata": {},
   "outputs": [
    {
     "data": {
      "text/html": [
       "<div>\n",
       "<style scoped>\n",
       "    .dataframe tbody tr th:only-of-type {\n",
       "        vertical-align: middle;\n",
       "    }\n",
       "\n",
       "    .dataframe tbody tr th {\n",
       "        vertical-align: top;\n",
       "    }\n",
       "\n",
       "    .dataframe thead th {\n",
       "        text-align: right;\n",
       "    }\n",
       "</style>\n",
       "<table border=\"1\" class=\"dataframe\">\n",
       "  <thead>\n",
       "    <tr style=\"text-align: right;\">\n",
       "      <th></th>\n",
       "      <th>FGFR3</th>\n",
       "      <th>HSPG2</th>\n",
       "      <th>GCGR</th>\n",
       "      <th>GLP2R</th>\n",
       "      <th>GLP1R</th>\n",
       "      <th>PLA2G4A</th>\n",
       "      <th>CYP3A4</th>\n",
       "      <th>XDH</th>\n",
       "      <th>CYP2E1</th>\n",
       "      <th>VAMP2</th>\n",
       "      <th>...</th>\n",
       "      <th>YWHAH</th>\n",
       "      <th>YWHAQ</th>\n",
       "      <th>YWHAZ</th>\n",
       "      <th>IFNA2</th>\n",
       "      <th>MSLN</th>\n",
       "      <th>ADAMTS13</th>\n",
       "      <th>SMN1</th>\n",
       "      <th>NOD2</th>\n",
       "      <th>RPE65</th>\n",
       "      <th>SSTR4</th>\n",
       "    </tr>\n",
       "  </thead>\n",
       "  <tbody>\n",
       "    <tr>\n",
       "      <th>Lepirudin</th>\n",
       "      <td>False</td>\n",
       "      <td>False</td>\n",
       "      <td>False</td>\n",
       "      <td>False</td>\n",
       "      <td>False</td>\n",
       "      <td>False</td>\n",
       "      <td>False</td>\n",
       "      <td>False</td>\n",
       "      <td>False</td>\n",
       "      <td>False</td>\n",
       "      <td>...</td>\n",
       "      <td>False</td>\n",
       "      <td>False</td>\n",
       "      <td>False</td>\n",
       "      <td>False</td>\n",
       "      <td>False</td>\n",
       "      <td>False</td>\n",
       "      <td>False</td>\n",
       "      <td>False</td>\n",
       "      <td>False</td>\n",
       "      <td>False</td>\n",
       "    </tr>\n",
       "    <tr>\n",
       "      <th>Cetuximab</th>\n",
       "      <td>False</td>\n",
       "      <td>False</td>\n",
       "      <td>False</td>\n",
       "      <td>False</td>\n",
       "      <td>False</td>\n",
       "      <td>False</td>\n",
       "      <td>False</td>\n",
       "      <td>False</td>\n",
       "      <td>False</td>\n",
       "      <td>False</td>\n",
       "      <td>...</td>\n",
       "      <td>False</td>\n",
       "      <td>False</td>\n",
       "      <td>False</td>\n",
       "      <td>False</td>\n",
       "      <td>False</td>\n",
       "      <td>False</td>\n",
       "      <td>False</td>\n",
       "      <td>False</td>\n",
       "      <td>False</td>\n",
       "      <td>False</td>\n",
       "    </tr>\n",
       "    <tr>\n",
       "      <th>Denileukin diftitox</th>\n",
       "      <td>False</td>\n",
       "      <td>False</td>\n",
       "      <td>False</td>\n",
       "      <td>False</td>\n",
       "      <td>False</td>\n",
       "      <td>False</td>\n",
       "      <td>False</td>\n",
       "      <td>False</td>\n",
       "      <td>False</td>\n",
       "      <td>False</td>\n",
       "      <td>...</td>\n",
       "      <td>False</td>\n",
       "      <td>False</td>\n",
       "      <td>False</td>\n",
       "      <td>False</td>\n",
       "      <td>False</td>\n",
       "      <td>False</td>\n",
       "      <td>False</td>\n",
       "      <td>False</td>\n",
       "      <td>False</td>\n",
       "      <td>False</td>\n",
       "    </tr>\n",
       "    <tr>\n",
       "      <th>Etanercept</th>\n",
       "      <td>False</td>\n",
       "      <td>False</td>\n",
       "      <td>False</td>\n",
       "      <td>False</td>\n",
       "      <td>False</td>\n",
       "      <td>False</td>\n",
       "      <td>False</td>\n",
       "      <td>False</td>\n",
       "      <td>False</td>\n",
       "      <td>False</td>\n",
       "      <td>...</td>\n",
       "      <td>False</td>\n",
       "      <td>False</td>\n",
       "      <td>False</td>\n",
       "      <td>False</td>\n",
       "      <td>False</td>\n",
       "      <td>False</td>\n",
       "      <td>False</td>\n",
       "      <td>False</td>\n",
       "      <td>False</td>\n",
       "      <td>False</td>\n",
       "    </tr>\n",
       "  </tbody>\n",
       "</table>\n",
       "<p>4 rows × 2649 columns</p>\n",
       "</div>"
      ],
      "text/plain": [
       "                     FGFR3  HSPG2   GCGR  GLP2R  GLP1R  PLA2G4A  CYP3A4  \\\n",
       "Lepirudin            False  False  False  False  False    False   False   \n",
       "Cetuximab            False  False  False  False  False    False   False   \n",
       "Denileukin diftitox  False  False  False  False  False    False   False   \n",
       "Etanercept           False  False  False  False  False    False   False   \n",
       "\n",
       "                       XDH  CYP2E1  VAMP2  ...    YWHAH  YWHAQ  YWHAZ  IFNA2  \\\n",
       "Lepirudin            False   False  False  ...    False  False  False  False   \n",
       "Cetuximab            False   False  False  ...    False  False  False  False   \n",
       "Denileukin diftitox  False   False  False  ...    False  False  False  False   \n",
       "Etanercept           False   False  False  ...    False  False  False  False   \n",
       "\n",
       "                      MSLN  ADAMTS13   SMN1   NOD2  RPE65  SSTR4  \n",
       "Lepirudin            False     False  False  False  False  False  \n",
       "Cetuximab            False     False  False  False  False  False  \n",
       "Denileukin diftitox  False     False  False  False  False  False  \n",
       "Etanercept           False     False  False  False  False  False  \n",
       "\n",
       "[4 rows x 2649 columns]"
      ]
     },
     "execution_count": 10,
     "metadata": {},
     "output_type": "execute_result"
    }
   ],
   "source": [
    "df = pd.DataFrame(r, index=index, columns=columns)\n",
    "df"
   ]
  },
  {
   "cell_type": "markdown",
   "metadata": {},
   "source": [
    "# To Do\n",
    "\n",
    "- Use appropriate distance function (jaccard) to calculate similarity between molecules based on targets\n",
    "- Use RDKit to calculate descriptors for all molecules and use dimensionality reduction to plot the \"chemical space\""
   ]
  }
 ],
 "metadata": {
  "kernelspec": {
   "display_name": "Python 3",
   "language": "python",
   "name": "python3"
  },
  "language_info": {
   "codemirror_mode": {
    "name": "ipython",
    "version": 3
   },
   "file_extension": ".py",
   "mimetype": "text/x-python",
   "name": "python",
   "nbconvert_exporter": "python",
   "pygments_lexer": "ipython3",
   "version": "3.6.5"
  }
 },
 "nbformat": 4,
 "nbformat_minor": 2
}
