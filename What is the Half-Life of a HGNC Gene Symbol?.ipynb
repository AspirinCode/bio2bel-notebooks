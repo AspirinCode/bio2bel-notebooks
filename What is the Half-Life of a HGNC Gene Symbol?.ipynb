{
 "cells": [
  {
   "cell_type": "markdown",
   "metadata": {},
   "source": [
    "# What is the Half-Life of a HGNC Gene Symbol?\n",
    "\n",
    "**Author:** [Charles Tapley Hoyt](https://github.com/cthoyt)\n",
    "\n",
    "**Estimated Run Time:** 10 seconds\n",
    "\n",
    "Here's an interesting question from [John Bachman](https://github.com/johnbachman): what's the half-life of a gene symbol?"
   ]
  },
  {
   "cell_type": "code",
   "execution_count": 1,
   "metadata": {},
   "outputs": [],
   "source": [
    "import datetime\n",
    "import sys\n",
    "import time\n",
    "\n",
    "import bio2bel_hgnc\n",
    "from bio2bel_hgnc.manager import HGNC\n",
    "import pandas as pd\n",
    "import matplotlib.pyplot as plt"
   ]
  },
  {
   "cell_type": "code",
   "execution_count": 2,
   "metadata": {},
   "outputs": [
    {
     "name": "stdout",
     "output_type": "stream",
     "text": [
      "3.6.3 (default, Oct  9 2017, 09:47:56) \n",
      "[GCC 4.2.1 Compatible Apple LLVM 9.0.0 (clang-900.0.37)]\n"
     ]
    }
   ],
   "source": [
    "print(sys.version)"
   ]
  },
  {
   "cell_type": "code",
   "execution_count": 3,
   "metadata": {},
   "outputs": [
    {
     "name": "stdout",
     "output_type": "stream",
     "text": [
      "Wed Mar 21 16:30:24 2018\n"
     ]
    }
   ],
   "source": [
    "print(time.asctime())"
   ]
  },
  {
   "cell_type": "code",
   "execution_count": 4,
   "metadata": {},
   "outputs": [],
   "source": [
    "%matplotlib inline"
   ]
  },
  {
   "cell_type": "code",
   "execution_count": 5,
   "metadata": {},
   "outputs": [
    {
     "data": {
      "text/plain": [
       "<Manager connection=mysql+mysqldb://root@localhost/pybel?charset=utf8>"
      ]
     },
     "execution_count": 5,
     "metadata": {},
     "output_type": "execute_result"
    }
   ],
   "source": [
    "m = bio2bel_hgnc.Manager()\n",
    "m"
   ]
  },
  {
   "cell_type": "code",
   "execution_count": 6,
   "metadata": {},
   "outputs": [
    {
     "data": {
      "text/plain": [
       "datetime.datetime(2013, 3, 22, 16, 30, 24, 892128)"
      ]
     },
     "execution_count": 6,
     "metadata": {},
     "output_type": "execute_result"
    }
   ],
   "source": [
    "# calculate 5 years ago\n",
    "t = datetime.datetime.now() - datetime.timedelta(days=365 * 5)\n",
    "t"
   ]
  },
  {
   "cell_type": "markdown",
   "metadata": {},
   "source": [
    "Number of genes never modified"
   ]
  },
  {
   "cell_type": "code",
   "execution_count": 7,
   "metadata": {},
   "outputs": [
    {
     "data": {
      "text/plain": [
       "33388"
      ]
     },
     "execution_count": 7,
     "metadata": {},
     "output_type": "execute_result"
    }
   ],
   "source": [
    "m.session.query(HGNC).filter(HGNC.date_symbol_changed.is_(None)).count()"
   ]
  },
  {
   "cell_type": "markdown",
   "metadata": {},
   "source": [
    "Number of genes modified before 5 years ago"
   ]
  },
  {
   "cell_type": "code",
   "execution_count": 8,
   "metadata": {},
   "outputs": [
    {
     "data": {
      "text/plain": [
       "6959"
      ]
     },
     "execution_count": 8,
     "metadata": {},
     "output_type": "execute_result"
    }
   ],
   "source": [
    "m.session.query(HGNC).filter(HGNC.date_symbol_changed < t).count()"
   ]
  },
  {
   "cell_type": "code",
   "execution_count": 9,
   "metadata": {},
   "outputs": [
    {
     "name": "stdout",
     "output_type": "stream",
     "text": [
      "status: Approved\n",
      "ucsc: uc002qse.3\n",
      "date_approved_reserved: 2009-07-20\n",
      "uuid: 47eba88b-2e4a-420e-9597-1014eeb2f455\n",
      "ensembl_gene: ENSG00000268895\n",
      "locus_group: non-coding RNA\n",
      "vega: OTTHUMG00000183508\n",
      "locus_type: RNA, long non-coding\n",
      "locationsortable: 19q13.43\n",
      "date_name_changed: 2012-08-15\n",
      "name: A1BG antisense RNA 1\n",
      "entrez: 503538\n",
      "date_modified: 2013-06-27\n",
      "location: 19q13.43\n",
      "symbol: A1BG-AS1\n",
      "date_symbol_changed: 2010-11-25\n",
      "identifier: 37133\n"
     ]
    }
   ],
   "source": [
    "gene = m.session.query(HGNC).filter(HGNC.date_symbol_changed < t).first()\n",
    "\n",
    "for k, v in gene.to_dict().items():\n",
    "    if v is None:\n",
    "        continue\n",
    "    print('{}: {}'.format(k, v))"
   ]
  },
  {
   "cell_type": "markdown",
   "metadata": {},
   "source": [
    "Number of genes modified in the last 5 years"
   ]
  },
  {
   "cell_type": "code",
   "execution_count": 10,
   "metadata": {},
   "outputs": [
    {
     "data": {
      "text/plain": [
       "2125"
      ]
     },
     "execution_count": 10,
     "metadata": {},
     "output_type": "execute_result"
    }
   ],
   "source": [
    "m.session.query(HGNC).filter(HGNC.date_symbol_changed > t).count()"
   ]
  },
  {
   "cell_type": "code",
   "execution_count": 11,
   "metadata": {},
   "outputs": [
    {
     "name": "stdout",
     "output_type": "stream",
     "text": [
      "status: Approved\n",
      "date_approved_reserved: 2002-03-05\n",
      "uuid: 98bb9447-46c4-49a2-8fb7-3d978f721249\n",
      "ensembl_gene: ENSG00000225969\n",
      "locus_group: non-coding RNA\n",
      "vega: OTTHUMG00000153263\n",
      "locus_type: RNA, long non-coding\n",
      "locationsortable: 07q11.23\n",
      "date_name_changed: 2014-07-08\n",
      "name: ABHD11 antisense RNA 1 (tail to tail)\n",
      "entrez: 171022\n",
      "date_modified: 2017-10-13\n",
      "location: 7q11.23\n",
      "symbol: ABHD11-AS1\n",
      "date_symbol_changed: 2014-07-08\n",
      "identifier: 18289\n"
     ]
    }
   ],
   "source": [
    "gene = m.session.query(HGNC).filter(HGNC.date_symbol_changed > t).first()\n",
    "\n",
    "for k, v in gene.to_dict().items():\n",
    "    if v is None:\n",
    "        continue\n",
    "    print('{}: {}'.format(k, v))"
   ]
  },
  {
   "cell_type": "markdown",
   "metadata": {},
   "source": [
    "Histogram over frequency per year"
   ]
  },
  {
   "cell_type": "code",
   "execution_count": 12,
   "metadata": {},
   "outputs": [
    {
     "data": {
      "image/png": "[encoded data removed]",
      "text/plain": [
       "<matplotlib.figure.Figure at 0x108face10>"
      ]
     },
     "metadata": {},
     "output_type": "display_data"
    }
   ],
   "source": [
    "pd.Series([date for date, in m.session.query(HGNC.date_symbol_changed)]).hist()\n",
    "plt.xlabel('Date')\n",
    "plt.ylabel('Frequency')\n",
    "plt.title('Gene Symbols Changed Over Time')\n",
    "plt.show()"
   ]
  }
 ],
 "metadata": {
  "kernelspec": {
   "display_name": "Python 3",
   "language": "python",
   "name": "python3"
  },
  "language_info": {
   "codemirror_mode": {
    "name": "ipython",
    "version": 3
   },
   "file_extension": ".py",
   "mimetype": "text/x-python",
   "name": "python",
   "nbconvert_exporter": "python",
   "pygments_lexer": "ipython3",
   "version": "3.6.3"
  }
 },
 "nbformat": 4,
 "nbformat_minor": 2
}
