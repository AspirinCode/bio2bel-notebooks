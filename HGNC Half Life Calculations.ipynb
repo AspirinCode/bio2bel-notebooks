{
 "cells": [
  {
   "cell_type": "markdown",
   "metadata": {},
   "source": [
    "Here's an interesting question from John Bachman: what's the half-life of a gene symbol?"
   ]
  },
  {
   "cell_type": "code",
   "execution_count": 1,
   "metadata": {},
   "outputs": [],
   "source": [
    "import datetime\n",
    "\n",
    "import bio2bel_hgnc\n",
    "from bio2bel_hgnc.manager import HGNC"
   ]
  },
  {
   "cell_type": "code",
   "execution_count": 2,
   "metadata": {},
   "outputs": [
    {
     "data": {
      "text/plain": [
       "<Manager connection=sqlite:////Users/cthoyt/.pyhgnc/data/pyhgnc.db>"
      ]
     },
     "execution_count": 2,
     "metadata": {},
     "output_type": "execute_result"
    }
   ],
   "source": [
    "m = bio2bel_hgnc.Manager()\n",
    "m"
   ]
  },
  {
   "cell_type": "code",
   "execution_count": 3,
   "metadata": {},
   "outputs": [
    {
     "data": {
      "text/plain": [
       "datetime.datetime(2012, 12, 21, 17, 0, 2, 663681)"
      ]
     },
     "execution_count": 3,
     "metadata": {},
     "output_type": "execute_result"
    }
   ],
   "source": [
    "# calculate 5 years ago\n",
    "t = datetime.datetime.now() - datetime.timedelta(days=365 * 5)\n",
    "t"
   ]
  },
  {
   "cell_type": "markdown",
   "metadata": {},
   "source": [
    "Number of genes never modified"
   ]
  },
  {
   "cell_type": "code",
   "execution_count": 4,
   "metadata": {},
   "outputs": [
    {
     "data": {
      "text/plain": [
       "33385"
      ]
     },
     "execution_count": 4,
     "metadata": {},
     "output_type": "execute_result"
    }
   ],
   "source": [
    "m.session.query(HGNC).filter(HGNC.date_symbol_changed.is_(None)).count()"
   ]
  },
  {
   "cell_type": "markdown",
   "metadata": {},
   "source": [
    "Number of genes modified in the last 5 years"
   ]
  },
  {
   "cell_type": "code",
   "execution_count": 5,
   "metadata": {},
   "outputs": [
    {
     "data": {
      "text/plain": [
       "2245"
      ]
     },
     "execution_count": 5,
     "metadata": {},
     "output_type": "execute_result"
    }
   ],
   "source": [
    "m.session.query(HGNC).filter(HGNC.date_symbol_changed > t).count()"
   ]
  },
  {
   "cell_type": "code",
   "execution_count": 6,
   "metadata": {},
   "outputs": [
    {
     "name": "stdout",
     "output_type": "stream",
     "text": [
      "status: Approved\n",
      "ucsc: uc031plq.1\n",
      "date_approved_reserved: 2005-05-06\n",
      "uuid: 6a9d4792-e6b0-45da-8b59-61f0f60b7b19\n",
      "ensembl_gene: ENSG00000184389\n",
      "locus_group: protein-coding gene\n",
      "vega: OTTHUMG00000004125\n",
      "locus_type: gene with protein product\n",
      "locationsortable: 01p35.1\n",
      "date_name_changed: 2013-03-11\n",
      "name: alpha 1,3-galactosyltransferase 2\n",
      "entrez: 127550\n",
      "date_modified: 2016-01-22\n",
      "location: 1p35.1\n",
      "symbol: A3GALT2\n",
      "date_symbol_changed: 2013-03-11\n",
      "identifier: 30005\n"
     ]
    }
   ],
   "source": [
    "gene = m.session.query(HGNC).filter(HGNC.date_symbol_changed > t).first()\n",
    "\n",
    "for k, v in gene.to_dict().items():\n",
    "    if v is None:\n",
    "        continue\n",
    "    print('{}: {}'.format(k, v))"
   ]
  },
  {
   "cell_type": "markdown",
   "metadata": {},
   "source": [
    "Number of genes modified before 5 years ago"
   ]
  },
  {
   "cell_type": "code",
   "execution_count": 7,
   "metadata": {},
   "outputs": [
    {
     "data": {
      "text/plain": [
       "6812"
      ]
     },
     "execution_count": 7,
     "metadata": {},
     "output_type": "execute_result"
    }
   ],
   "source": [
    "m.session.query(HGNC).filter(HGNC.date_symbol_changed < t).count()"
   ]
  },
  {
   "cell_type": "code",
   "execution_count": 8,
   "metadata": {},
   "outputs": [
    {
     "name": "stdout",
     "output_type": "stream",
     "text": [
      "status: Approved\n",
      "ucsc: uc002qse.3\n",
      "date_approved_reserved: 2009-07-20\n",
      "uuid: 7527e155-5add-48be-a110-89c4aa8cf9a3\n",
      "ensembl_gene: ENSG00000268895\n",
      "locus_group: non-coding RNA\n",
      "vega: OTTHUMG00000183508\n",
      "locus_type: RNA, long non-coding\n",
      "locationsortable: 19q13.43\n",
      "date_name_changed: 2012-08-15\n",
      "name: A1BG antisense RNA 1\n",
      "entrez: 503538\n",
      "date_modified: 2013-06-27\n",
      "location: 19q13.43\n",
      "symbol: A1BG-AS1\n",
      "date_symbol_changed: 2010-11-25\n",
      "identifier: 37133\n"
     ]
    }
   ],
   "source": [
    "gene = m.session.query(HGNC).filter(HGNC.date_symbol_changed < t).first()\n",
    "\n",
    "for k, v in gene.to_dict().items():\n",
    "    if v is None:\n",
    "        continue\n",
    "    print('{}: {}'.format(k, v))"
   ]
  }
 ],
 "metadata": {
  "kernelspec": {
   "display_name": "Python 3",
   "language": "python",
   "name": "python3"
  },
  "language_info": {
   "codemirror_mode": {
    "name": "ipython",
    "version": 3
   },
   "file_extension": ".py",
   "mimetype": "text/x-python",
   "name": "python",
   "nbconvert_exporter": "python",
   "pygments_lexer": "ipython3",
   "version": "3.6.3"
  }
 },
 "nbformat": 4,
 "nbformat_minor": 2
}
