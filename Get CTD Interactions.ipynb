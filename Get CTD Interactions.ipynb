{
 "cells": [
  {
   "cell_type": "markdown",
   "metadata": {},
   "source": [
    "# Get CTD Interactions\n",
    "\n",
    "This notebook outlines how to output gene-chemical interactions from Bio2BEL CTD."
   ]
  },
  {
   "cell_type": "code",
   "execution_count": 18,
   "metadata": {},
   "outputs": [],
   "source": [
    "import sys\n",
    "import time\n",
    "import os\n",
    "\n",
    "from tqdm import tqdm\n",
    "import bio2bel_ctd\n",
    "from bio2bel_ctd.models import ChemGeneIxn"
   ]
  },
  {
   "cell_type": "code",
   "execution_count": 2,
   "metadata": {},
   "outputs": [
    {
     "name": "stdout",
     "output_type": "stream",
     "text": [
      "3.6.5 (default, Apr 25 2018, 14:23:58) \n",
      "[GCC 4.2.1 Compatible Apple LLVM 9.1.0 (clang-902.0.39.1)]\n"
     ]
    }
   ],
   "source": [
    "print(sys.version)"
   ]
  },
  {
   "cell_type": "code",
   "execution_count": 3,
   "metadata": {},
   "outputs": [
    {
     "name": "stdout",
     "output_type": "stream",
     "text": [
      "Wed Jun 13 12:52:22 2018\n"
     ]
    }
   ],
   "source": [
    "print(time.asctime())"
   ]
  },
  {
   "cell_type": "code",
   "execution_count": 4,
   "metadata": {},
   "outputs": [
    {
     "data": {
      "text/plain": [
       "<CtdManager url=mysql+mysqldb://root@localhost/pybel12?charset=utf8>"
      ]
     },
     "execution_count": 4,
     "metadata": {},
     "output_type": "execute_result"
    }
   ],
   "source": [
    "ctd_manager = bio2bel_ctd.Manager()\n",
    "ctd_manager"
   ]
  },
  {
   "cell_type": "code",
   "execution_count": 5,
   "metadata": {},
   "outputs": [
    {
     "data": {
      "text/plain": [
       "{'chemical_gene_interactions': 1617214,\n",
       " 'chemicals': 169600,\n",
       " 'diseases': 12981,\n",
       " 'genes': 475615,\n",
       " 'pathways': 2363}"
      ]
     },
     "execution_count": 5,
     "metadata": {},
     "output_type": "execute_result"
    }
   ],
   "source": [
    "ctd_manager.summarize()"
   ]
  },
  {
   "cell_type": "code",
   "execution_count": 21,
   "metadata": {},
   "outputs": [
    {
     "name": "stderr",
     "output_type": "stream",
     "text": [
      "\r",
      "  0%|          | 0/1617214 [00:00<?, ?it/s]"
     ]
    },
    {
     "name": "stdout",
     "output_type": "stream",
     "text": [
      "\n"
     ]
    },
    {
     "name": "stderr",
     "output_type": "stream",
     "text": [
      "100%|██████████| 1617214/1617214 [32:59<00:00, 816.81it/s]\n"
     ]
    }
   ],
   "source": [
    "cgi_iter = ctd_manager.session.query(ChemGeneIxn)\n",
    "\n",
    "cgis = tqdm(\n",
    "    cgi_iter, \n",
    "    total=ctd_manager.count_chemical_gene_interactions()\n",
    ")\n",
    "\n",
    "file = open('ctd-interactions.tsv', 'w')\n",
    "    \n",
    "print(\n",
    "    'chemical_name',\n",
    "    'chemical_mesh_id',\n",
    "    'gene_entrez',\n",
    "    'tax_id',\n",
    "    'pubmed_id',\n",
    "    sep='\\t',\n",
    "    file=file,\n",
    ")\n",
    "    \n",
    "     \n",
    "    \n",
    "for cgi in cgis:\n",
    "    if not cgi.chemical or not cgi.gene:\n",
    "        continue\n",
    "\n",
    "    for pubmed in cgi.pubmed_ids:\n",
    "        print(\n",
    "            cgi.chemical.chemical_name,\n",
    "            cgi.chemical.chemical_id,\n",
    "            cgi.gene.gene_id,\n",
    "            cgi.organism_id or '',\n",
    "            pubmed.pubmed_id,\n",
    "            sep='\\t',\n",
    "            file=file,\n",
    "        )"
   ]
  }
 ],
 "metadata": {
  "kernelspec": {
   "display_name": "Python 3",
   "language": "python",
   "name": "python3"
  },
  "language_info": {
   "codemirror_mode": {
    "name": "ipython",
    "version": 3
   },
   "file_extension": ".py",
   "mimetype": "text/x-python",
   "name": "python",
   "nbconvert_exporter": "python",
   "pygments_lexer": "ipython3",
   "version": "3.6.5"
  }
 },
 "nbformat": 4,
 "nbformat_minor": 2
}
