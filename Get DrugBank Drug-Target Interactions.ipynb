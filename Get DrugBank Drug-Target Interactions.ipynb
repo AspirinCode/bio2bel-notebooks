{
 "cells": [
  {
   "cell_type": "markdown",
   "metadata": {},
   "source": [
    "# Get DrugBank Drug-Target Interactions\n",
    "\n",
    "This notebook gets the drug-target interactions from DrugBank and formats them as a nice JSON.\n",
    "\n",
    "## Installation\n",
    "\n",
    "Bio2BEL DrugBank must be installed from GitHub first using the following command in the terminal:\n",
    "\n",
    "```bash\n",
    "python3 -m pip install git+https://github.com/bio2bel/drugbank.git@master\n",
    "```"
   ]
  },
  {
   "cell_type": "markdown",
   "metadata": {},
   "source": [
    "## Imports"
   ]
  },
  {
   "cell_type": "code",
   "execution_count": 1,
   "metadata": {},
   "outputs": [],
   "source": [
    "import json\n",
    "import sys\n",
    "import time\n",
    "import rdkit\n",
    "import bio2bel\n",
    "import bio2bel_drugbank\n",
    "from bio2bel_drugbank.models import *"
   ]
  },
  {
   "cell_type": "markdown",
   "metadata": {},
   "source": [
    "## Runtime Environment"
   ]
  },
  {
   "cell_type": "code",
   "execution_count": 2,
   "metadata": {},
   "outputs": [
    {
     "name": "stdout",
     "output_type": "stream",
     "text": [
      "3.7.0 (default, Jul 23 2018, 20:22:55) \n",
      "[Clang 9.1.0 (clang-902.0.39.2)]\n"
     ]
    }
   ],
   "source": [
    "print(sys.version)"
   ]
  },
  {
   "cell_type": "code",
   "execution_count": 3,
   "metadata": {},
   "outputs": [
    {
     "name": "stdout",
     "output_type": "stream",
     "text": [
      "Mon Nov  5 15:15:56 2018\n"
     ]
    }
   ],
   "source": [
    "print(time.asctime())"
   ]
  },
  {
   "cell_type": "code",
   "execution_count": 4,
   "metadata": {},
   "outputs": [
    {
     "name": "stdout",
     "output_type": "stream",
     "text": [
      "Bio2BEL version: 0.1.6-dev\n",
      "Bio2BEL DrugBank version: 0.1.1-dev\n"
     ]
    }
   ],
   "source": [
    "print('Bio2BEL version:', bio2bel.get_version())\n",
    "print('Bio2BEL DrugBank version:', bio2bel_drugbank.get_version())"
   ]
  },
  {
   "cell_type": "code",
   "execution_count": 5,
   "metadata": {},
   "outputs": [
    {
     "data": {
      "text/plain": [
       "<DrugbankManager url=postgresql+psycopg2://cthoyt@localhost:5432/cthoyt>"
      ]
     },
     "execution_count": 5,
     "metadata": {},
     "output_type": "execute_result"
    }
   ],
   "source": [
    "drugbank_manager = bio2bel_drugbank.Manager()\n",
    "drugbank_manager"
   ]
  },
  {
   "cell_type": "markdown",
   "metadata": {},
   "source": [
    "## Data Download\n",
    "\n",
    "If you'd like to populate DrugBank yourself, you need to ensure that there's a folder called `~/.pybel/bio2bel/drugbank` in which the file contained at https://www.drugbank.ca/releases/5-1-0/downloads/all-full-database is downloaded."
   ]
  },
  {
   "cell_type": "code",
   "execution_count": 6,
   "metadata": {},
   "outputs": [],
   "source": [
    "if not drugbank_manager.is_populated():\n",
    "    drugbank_manager.populate()"
   ]
  },
  {
   "cell_type": "code",
   "execution_count": 7,
   "metadata": {},
   "outputs": [
    {
     "data": {
      "text/plain": [
       "{'drugs': 11033,\n",
       " 'types': 2,\n",
       " 'aliases': 147715,\n",
       " 'atc_codes': 3987,\n",
       " 'groups': 7,\n",
       " 'categories': 3625,\n",
       " 'patents': 5256,\n",
       " 'xrefs': 62926,\n",
       " 'proteins': 4723,\n",
       " 'species': 528,\n",
       " 'actions': 52,\n",
       " 'drug_protein_interactions': 24175}"
      ]
     },
     "execution_count": 7,
     "metadata": {},
     "output_type": "execute_result"
    }
   ],
   "source": [
    "drugbank_manager.summarize()"
   ]
  },
  {
   "cell_type": "markdown",
   "metadata": {},
   "source": [
    "## Data Processing"
   ]
  },
  {
   "cell_type": "code",
   "execution_count": 8,
   "metadata": {},
   "outputs": [
    {
     "data": {
      "text/plain": [
       "[approved,\n",
       " investigational,\n",
       " withdrawn,\n",
       " vet_approved,\n",
       " nutraceutical,\n",
       " illicit,\n",
       " experimental]"
      ]
     },
     "execution_count": 8,
     "metadata": {},
     "output_type": "execute_result"
    }
   ],
   "source": [
    "drugbank_manager.list_groups()"
   ]
  },
  {
   "cell_type": "code",
   "execution_count": 9,
   "metadata": {},
   "outputs": [],
   "source": [
    "# this can be swapped for any of the other groups as well\n",
    "approved = drugbank_manager.get_group_by_name('approved')"
   ]
  },
  {
   "cell_type": "markdown",
   "metadata": {},
   "source": [
    "## Output"
   ]
  },
  {
   "cell_type": "code",
   "execution_count": 10,
   "metadata": {},
   "outputs": [
    {
     "name": "stdout",
     "output_type": "stream",
     "text": [
      "CPU times: user 15.6 s, sys: 779 ms, total: 16.4 s\n",
      "Wall time: 28.8 s\n"
     ]
    }
   ],
   "source": [
    "%%time\n",
    "\n",
    "output_json = [\n",
    "    {\n",
    "        'drugbank_id': drug.drugbank_id,\n",
    "        'name': drug.name,\n",
    "        'cas_number': drug.cas_number,\n",
    "        'inchi': drug.inchi,\n",
    "        'inchikey': drug.inchikey,\n",
    "        'targets': [\n",
    "            {\n",
    "                'uniprot_id': interaction.protein.uniprot_id,\n",
    "                'uniprot_accession': interaction.protein.uniprot_accession,\n",
    "                'name': interaction.protein.name,\n",
    "                'hgnc_id': interaction.protein.hgnc_id,\n",
    "                'articles': [\n",
    "                    article.pubmed_id \n",
    "                    for article in interaction.articles\n",
    "                ]\n",
    "            }\n",
    "            for interaction in drug.protein_interactions\n",
    "        ]\n",
    "    }\n",
    "    for drug in approved.drugs\n",
    "]\n",
    "\n",
    "with open('drugbank-targets.json', 'w') as f:\n",
    "    json.dump(output_json, f)"
   ]
  },
  {
   "cell_type": "code",
   "execution_count": 11,
   "metadata": {},
   "outputs": [
    {
     "name": "stdout",
     "output_type": "stream",
     "text": [
      "CPU times: user 24.1 s, sys: 1.05 s, total: 25.2 s\n",
      "Wall time: 34.1 s\n"
     ]
    }
   ],
   "source": [
    "%%time\n",
    "\n",
    "with open('drugbank-interactions.tsv', 'w') as file:\n",
    "    print(\n",
    "        'drug_name',\n",
    "        'drug_drugbank_id', \n",
    "        'protein_name', \n",
    "        'protein_uniprot_id',\n",
    "        'protein_species',\n",
    "        'pubmed_id', \n",
    "        sep='\\t', \n",
    "        file=file\n",
    "    )\n",
    "    \n",
    "    for drug_target_interaction in drugbank_manager.list_drug_protein_interactions():\n",
    "        drug = drug_target_interaction.drug\n",
    "        protein = drug_target_interaction.protein\n",
    "        \n",
    "        for article in drug_target_interaction.articles:\n",
    "            print(\n",
    "                drug.name, \n",
    "                drug.drugbank_id, \n",
    "                protein.name, \n",
    "                protein.uniprot_id, \n",
    "                protein.species.name,\n",
    "                article.pubmed_id,\n",
    "                sep='\\t', \n",
    "                file=file,\n",
    "            )"
   ]
  }
 ],
 "metadata": {
  "kernelspec": {
   "display_name": "Python 3",
   "language": "python",
   "name": "python3"
  },
  "language_info": {
   "codemirror_mode": {
    "name": "ipython",
    "version": 3
   },
   "file_extension": ".py",
   "mimetype": "text/x-python",
   "name": "python",
   "nbconvert_exporter": "python",
   "pygments_lexer": "ipython3",
   "version": "3.7.0"
  }
 },
 "nbformat": 4,
 "nbformat_minor": 2
}
