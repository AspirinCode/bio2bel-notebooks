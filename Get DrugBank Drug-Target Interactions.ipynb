{
 "cells": [
  {
   "cell_type": "markdown",
   "metadata": {},
   "source": [
    "# Get DrugBank Drug-Target Interactions\n",
    "\n",
    "This notebook gets the drug-target interactions from DrugBank and formats them as a nice JSON.\n",
    "\n",
    "## Installation\n",
    "\n",
    "Bio2BEL DrugBank must be installed from GitHub first using the following command in the terminal:\n",
    "\n",
    "```bash\n",
    "python3 -m pip install git+https://github.com/bio2bel/drugbank.git@master\n",
    "```"
   ]
  },
  {
   "cell_type": "markdown",
   "metadata": {},
   "source": [
    "## Imports"
   ]
  },
  {
   "cell_type": "code",
   "execution_count": 1,
   "metadata": {},
   "outputs": [],
   "source": [
    "import json\n",
    "import sys\n",
    "import time\n",
    "\n",
    "import bio2bel_drugbank\n",
    "from bio2bel_drugbank.models import *"
   ]
  },
  {
   "cell_type": "markdown",
   "metadata": {},
   "source": [
    "## Runtime Environment"
   ]
  },
  {
   "cell_type": "code",
   "execution_count": 2,
   "metadata": {},
   "outputs": [
    {
     "name": "stdout",
     "output_type": "stream",
     "text": [
      "3.6.5 (default, Apr 25 2018, 14:23:58) \n",
      "[GCC 4.2.1 Compatible Apple LLVM 9.1.0 (clang-902.0.39.1)]\n"
     ]
    }
   ],
   "source": [
    "print(sys.version)"
   ]
  },
  {
   "cell_type": "code",
   "execution_count": 3,
   "metadata": {},
   "outputs": [
    {
     "name": "stdout",
     "output_type": "stream",
     "text": [
      "Tue Jun 12 12:39:38 2018\n"
     ]
    }
   ],
   "source": [
    "print(time.asctime())"
   ]
  },
  {
   "cell_type": "code",
   "execution_count": 4,
   "metadata": {},
   "outputs": [
    {
     "data": {
      "text/plain": [
       "<DrugbankManager url=mysql+mysqldb://root@localhost/pybel12?charset=utf8>"
      ]
     },
     "execution_count": 4,
     "metadata": {},
     "output_type": "execute_result"
    }
   ],
   "source": [
    "drugbank_manager = bio2bel_drugbank.Manager()\n",
    "drugbank_manager"
   ]
  },
  {
   "cell_type": "markdown",
   "metadata": {},
   "source": [
    "## Data Download\n",
    "\n",
    "If you'd like to populate DrugBank yourself, you need to ensure that there's a folder called `~/.pybel/bio2bel/drugbank` in which the file contained at https://www.drugbank.ca/releases/5-1-0/downloads/all-full-database is downloaded."
   ]
  },
  {
   "cell_type": "code",
   "execution_count": 5,
   "metadata": {},
   "outputs": [],
   "source": [
    "if not drugbank_manager.is_populated():\n",
    "    drugbank_manager.populate()"
   ]
  },
  {
   "cell_type": "code",
   "execution_count": 6,
   "metadata": {},
   "outputs": [
    {
     "data": {
      "text/plain": [
       "{'actions': 52,\n",
       " 'aliases': 147715,\n",
       " 'atc_codes': 3987,\n",
       " 'categories': 3625,\n",
       " 'drug_protein_interactions': 24175,\n",
       " 'drugs': 11033,\n",
       " 'groups': 7,\n",
       " 'patents': 5256,\n",
       " 'proteins': 4723,\n",
       " 'species': 528,\n",
       " 'types': 2,\n",
       " 'xrefs': 62926}"
      ]
     },
     "execution_count": 6,
     "metadata": {},
     "output_type": "execute_result"
    }
   ],
   "source": [
    "drugbank_manager.summarize()"
   ]
  },
  {
   "cell_type": "markdown",
   "metadata": {},
   "source": [
    "## Data Processing"
   ]
  },
  {
   "cell_type": "code",
   "execution_count": 7,
   "metadata": {},
   "outputs": [
    {
     "data": {
      "text/plain": [
       "[approved,\n",
       " investigational,\n",
       " withdrawn,\n",
       " vet_approved,\n",
       " nutraceutical,\n",
       " illicit,\n",
       " experimental]"
      ]
     },
     "execution_count": 7,
     "metadata": {},
     "output_type": "execute_result"
    }
   ],
   "source": [
    "drugbank_manager.list_groups()"
   ]
  },
  {
   "cell_type": "code",
   "execution_count": 9,
   "metadata": {},
   "outputs": [],
   "source": [
    "# this can be swapped for any of the other groups as well\n",
    "approved = drugbank_manager.get_group_by_name('approved')"
   ]
  },
  {
   "cell_type": "markdown",
   "metadata": {},
   "source": [
    "## Output"
   ]
  },
  {
   "cell_type": "code",
   "execution_count": 10,
   "metadata": {},
   "outputs": [
    {
     "name": "stdout",
     "output_type": "stream",
     "text": [
      "CPU times: user 14.4 s, sys: 336 ms, total: 14.7 s\n",
      "Wall time: 17.9 s\n"
     ]
    }
   ],
   "source": [
    "%%time\n",
    "\n",
    "output_json = [\n",
    "    {\n",
    "        'drugbank_id': drug.drugbank_id,\n",
    "        'name': drug.name,\n",
    "        'cas_number': drug.cas_number,\n",
    "        'inchi': drug.inchi,\n",
    "        'inchikey': drug.inchikey,\n",
    "        'targets': [\n",
    "            {\n",
    "                'uniprot_id': interaction.protein.uniprot_id,\n",
    "                'uniprot_accession': interaction.protein.uniprot_accession,\n",
    "                'name': interaction.protein.name,\n",
    "                'hgnc_id': interaction.protein.hgnc_id,\n",
    "                'articles': [\n",
    "                    article.pubmed_id \n",
    "                    for article in interaction.articles\n",
    "                ]\n",
    "            }\n",
    "            for interaction in drug.protein_interactions\n",
    "        ]\n",
    "    }\n",
    "    for drug in approved.drugs\n",
    "]\n",
    "\n",
    "with open('drugbank-targets.json', 'w') as f:\n",
    "    json.dump(output_json, f)"
   ]
  },
  {
   "cell_type": "code",
   "execution_count": 15,
   "metadata": {},
   "outputs": [
    {
     "name": "stdout",
     "output_type": "stream",
     "text": [
      "CPU times: user 27.6 s, sys: 642 ms, total: 28.2 s\n",
      "Wall time: 34.3 s\n"
     ]
    }
   ],
   "source": [
    "%%time\n",
    "\n",
    "with open('drugbank-interactions.tsv', 'w') as file:\n",
    "    print('drug_name', 'drug_drugbank_id', 'protein_name', 'protein_uniprot_id', 'pubmed_id', sep='\\t', file=file)\n",
    "    for drug_target_interaction in drugbank_manager.list_drug_protein_interactions():\n",
    "        drug = drug_target_interaction.drug\n",
    "        protein = drug_target_interaction.protein\n",
    "        \n",
    "        for article in drug_target_interaction.articles:\n",
    "            print(\n",
    "                drug.name, \n",
    "                drug.drugbank_id, \n",
    "                protein.name, \n",
    "                protein.uniprot_id, \n",
    "                article.pubmed_id,\n",
    "                sep='\\t', \n",
    "                file=file,\n",
    "            )"
   ]
  }
 ],
 "metadata": {
  "kernelspec": {
   "display_name": "Python 3",
   "language": "python",
   "name": "python3"
  },
  "language_info": {
   "codemirror_mode": {
    "name": "ipython",
    "version": 3
   },
   "file_extension": ".py",
   "mimetype": "text/x-python",
   "name": "python",
   "nbconvert_exporter": "python",
   "pygments_lexer": "ipython3",
   "version": "3.6.5"
  }
 },
 "nbformat": 4,
 "nbformat_minor": 2
}
