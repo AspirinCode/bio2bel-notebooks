{
 "cells": [
  {
   "cell_type": "code",
   "execution_count": 1,
   "metadata": {},
   "outputs": [],
   "source": [
    "import sys\n",
    "import time\n",
    "\n",
    "import bio2bel_hgnc\n",
    "\n",
    "from bio2bel_hgnc.constants import encodings\n",
    "from collections import Counter"
   ]
  },
  {
   "cell_type": "code",
   "execution_count": 2,
   "metadata": {},
   "outputs": [
    {
     "name": "stdout",
     "output_type": "stream",
     "text": [
      "3.6.5 (default, Apr 25 2018, 14:23:58) \n",
      "[GCC 4.2.1 Compatible Apple LLVM 9.1.0 (clang-902.0.39.1)]\n"
     ]
    }
   ],
   "source": [
    "print(sys.version)"
   ]
  },
  {
   "cell_type": "code",
   "execution_count": 3,
   "metadata": {},
   "outputs": [
    {
     "name": "stdout",
     "output_type": "stream",
     "text": [
      "Fri May 11 15:55:53 2018\n"
     ]
    }
   ],
   "source": [
    "print(time.asctime())"
   ]
  },
  {
   "cell_type": "code",
   "execution_count": 4,
   "metadata": {},
   "outputs": [],
   "source": [
    "m = bio2bel_hgnc.Manager()"
   ]
  },
  {
   "cell_type": "code",
   "execution_count": 5,
   "metadata": {},
   "outputs": [
    {
     "data": {
      "text/plain": [
       "{'RNA, Y': 'GR',\n",
       " 'RNA, cluster': 'GR',\n",
       " 'RNA, long non-coding': 'GR',\n",
       " 'RNA, micro': 'GM',\n",
       " 'RNA, misc': 'GR',\n",
       " 'RNA, ribosomal': 'GR',\n",
       " 'RNA, small cytoplasmic': 'GR',\n",
       " 'RNA, small nuclear': 'GR',\n",
       " 'RNA, small nucleolar': 'GR',\n",
       " 'RNA, transfer': 'GR',\n",
       " 'RNA, vault': 'GR',\n",
       " 'T cell receptor gene': 'G',\n",
       " 'T cell receptor pseudogene': 'G',\n",
       " 'T-cell receptor gene': 'G',\n",
       " 'T-cell receptor pseudogene': 'G',\n",
       " 'complex locus constituent': 'G',\n",
       " 'endogenous retrovirus': 'G',\n",
       " 'fragile site': 'G',\n",
       " 'gene with protein product': 'GRP',\n",
       " 'immunoglobulin gene': 'G',\n",
       " 'immunoglobulin pseudogene': 'G',\n",
       " 'phenotype only': 'G',\n",
       " 'protocadherin': 'G',\n",
       " 'pseudogene': 'G',\n",
       " 'readthrough': 'G',\n",
       " 'region': 'G',\n",
       " 'transposable element': 'G',\n",
       " 'unknown': 'GRP',\n",
       " 'virus integration site': 'G'}"
      ]
     },
     "execution_count": 5,
     "metadata": {},
     "output_type": "execute_result"
    }
   ],
   "source": [
    "encodings"
   ]
  },
  {
   "cell_type": "code",
   "execution_count": 6,
   "metadata": {},
   "outputs": [
    {
     "data": {
      "text/plain": [
       "Counter({'G': 41361, 'M': 1878, 'P': 19491, 'R': 24829})"
      ]
     },
     "execution_count": 6,
     "metadata": {},
     "output_type": "execute_result"
    }
   ],
   "source": [
    "Counter(\n",
    "    encoding\n",
    "    for gene in m.list_human_genes()\n",
    "    for encoding in encodings.get(gene.locus_type, [])\n",
    ")    "
   ]
  }
 ],
 "metadata": {
  "kernelspec": {
   "display_name": "Python 3",
   "language": "python",
   "name": "python3"
  },
  "language_info": {
   "codemirror_mode": {
    "name": "ipython",
    "version": 3
   },
   "file_extension": ".py",
   "mimetype": "text/x-python",
   "name": "python",
   "nbconvert_exporter": "python",
   "pygments_lexer": "ipython3",
   "version": "3.6.5"
  }
 },
 "nbformat": 4,
 "nbformat_minor": 2
}
